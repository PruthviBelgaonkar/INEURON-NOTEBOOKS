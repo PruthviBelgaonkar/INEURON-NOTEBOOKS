{
 "cells": [
  {
   "cell_type": "code",
   "execution_count": 1,
   "metadata": {},
   "outputs": [],
   "source": [
    "import nltk"
   ]
  },
  {
   "cell_type": "code",
   "execution_count": 2,
   "metadata": {},
   "outputs": [],
   "source": [
    "paragraph=\"The Natural Language Toolkit, or more commonly NLTK, is a suite of libraries and programs for symbolic and statistical natural language processing (NLP) for English written in the Python programming language\""
   ]
  },
  {
   "cell_type": "code",
   "execution_count": 6,
   "metadata": {},
   "outputs": [],
   "source": [
    " sentences=nltk.sent_tokenize(paragraph)"
   ]
  },
  {
   "cell_type": "code",
   "execution_count": 5,
   "metadata": {},
   "outputs": [
    {
     "name": "stderr",
     "output_type": "stream",
     "text": [
      "[nltk_data] Downloading package punkt to\n",
      "[nltk_data]     C:\\Users\\pruth\\AppData\\Roaming\\nltk_data...\n",
      "[nltk_data]   Unzipping tokenizers\\punkt.zip.\n"
     ]
    },
    {
     "data": {
      "text/plain": [
       "True"
      ]
     },
     "execution_count": 5,
     "metadata": {},
     "output_type": "execute_result"
    }
   ],
   "source": [
    "import nltk\n",
    "nltk.download('punkt')"
   ]
  },
  {
   "cell_type": "code",
   "execution_count": 7,
   "metadata": {},
   "outputs": [
    {
     "data": {
      "text/plain": [
       "['The Natural Language Toolkit, or more commonly NLTK, is a suite of libraries and programs for symbolic and statistical natural language processing (NLP) for English written in the Python programming language']"
      ]
     },
     "execution_count": 7,
     "metadata": {},
     "output_type": "execute_result"
    }
   ],
   "source": [
    "sentences"
   ]
  },
  {
   "cell_type": "code",
   "execution_count": 9,
   "metadata": {},
   "outputs": [
    {
     "data": {
      "text/plain": [
       "['The',\n",
       " 'Natural',\n",
       " 'Language',\n",
       " 'Toolkit',\n",
       " ',',\n",
       " 'or',\n",
       " 'more',\n",
       " 'commonly',\n",
       " 'NLTK',\n",
       " ',',\n",
       " 'is',\n",
       " 'a',\n",
       " 'suite',\n",
       " 'of',\n",
       " 'libraries',\n",
       " 'and',\n",
       " 'programs',\n",
       " 'for',\n",
       " 'symbolic',\n",
       " 'and',\n",
       " 'statistical',\n",
       " 'natural',\n",
       " 'language',\n",
       " 'processing',\n",
       " '(',\n",
       " 'NLP',\n",
       " ')',\n",
       " 'for',\n",
       " 'English',\n",
       " 'written',\n",
       " 'in',\n",
       " 'the',\n",
       " 'Python',\n",
       " 'programming',\n",
       " 'language']"
      ]
     },
     "execution_count": 9,
     "metadata": {},
     "output_type": "execute_result"
    }
   ],
   "source": [
    "nltk.word_tokenize(paragraph)"
   ]
  },
  {
   "cell_type": "code",
   "execution_count": 10,
   "metadata": {},
   "outputs": [],
   "source": [
    "from nltk.stem import PorterStemmer"
   ]
  },
  {
   "cell_type": "code",
   "execution_count": 11,
   "metadata": {},
   "outputs": [],
   "source": [
    "stemmer=PorterStemmer()"
   ]
  },
  {
   "cell_type": "code",
   "execution_count": 12,
   "metadata": {},
   "outputs": [
    {
     "data": {
      "text/plain": [
       "'eat'"
      ]
     },
     "execution_count": 12,
     "metadata": {},
     "output_type": "execute_result"
    }
   ],
   "source": [
    "stemmer.stem(\"eating\")"
   ]
  },
  {
   "cell_type": "code",
   "execution_count": 13,
   "metadata": {},
   "outputs": [
    {
     "data": {
      "text/plain": [
       "'histori'"
      ]
     },
     "execution_count": 13,
     "metadata": {},
     "output_type": "execute_result"
    }
   ],
   "source": [
    "stemmer.stem(\"history\")"
   ]
  },
  {
   "cell_type": "code",
   "execution_count": 14,
   "metadata": {},
   "outputs": [],
   "source": [
    "from nltk.stem import WordNetLemmatizer"
   ]
  },
  {
   "cell_type": "code",
   "execution_count": 16,
   "metadata": {},
   "outputs": [],
   "source": [
    "lemmatizer=WordNetLemmatizer()"
   ]
  },
  {
   "cell_type": "code",
   "execution_count": 19,
   "metadata": {},
   "outputs": [
    {
     "data": {
      "text/plain": [
       "'wa'"
      ]
     },
     "execution_count": 19,
     "metadata": {},
     "output_type": "execute_result"
    }
   ],
   "source": [
    "lemmatizer.lemmatize(\"was\")"
   ]
  },
  {
   "cell_type": "code",
   "execution_count": 18,
   "metadata": {},
   "outputs": [
    {
     "name": "stderr",
     "output_type": "stream",
     "text": [
      "[nltk_data] Downloading package wordnet to\n",
      "[nltk_data]     C:\\Users\\pruth\\AppData\\Roaming\\nltk_data...\n"
     ]
    },
    {
     "data": {
      "text/plain": [
       "True"
      ]
     },
     "execution_count": 18,
     "metadata": {},
     "output_type": "execute_result"
    }
   ],
   "source": [
    "import nltk\n",
    "nltk.download('wordnet')"
   ]
  },
  {
   "cell_type": "code",
   "execution_count": 20,
   "metadata": {},
   "outputs": [
    {
     "data": {
      "text/plain": [
       "['The Natural Language Toolkit, or more commonly NLTK, is a suite of libraries and programs for symbolic and statistical natural language processing (NLP) for English written in the Python programming language']"
      ]
     },
     "execution_count": 20,
     "metadata": {},
     "output_type": "execute_result"
    }
   ],
   "source": [
    "sentences"
   ]
  },
  {
   "cell_type": "code",
   "execution_count": 24,
   "metadata": {},
   "outputs": [
    {
     "name": "stdout",
     "output_type": "stream",
     "text": [
      "['the', 'natur', 'languag', 'toolkit', ',', 'or', 'more', 'commonli', 'nltk', ',', 'is', 'a', 'suit', 'of', 'librari', 'and', 'program', 'for', 'symbol', 'and', 'statist', 'natur', 'languag', 'process', '(', 'nlp', ')', 'for', 'english', 'written', 'in', 'the', 'python', 'program', 'languag']\n"
     ]
    }
   ],
   "source": [
    "#USING STEMMING\n",
    "corpus=[]\n",
    "for i in range(len(sentences)):\n",
    "    words=nltk.word_tokenize(sentences[i])\n",
    "    words=[stemmer.stem(word) for word in words]\n",
    "    print(words)\n",
    "    corpus.append(' '.join(words))"
   ]
  },
  {
   "cell_type": "code",
   "execution_count": 25,
   "metadata": {},
   "outputs": [
    {
     "data": {
      "text/plain": [
       "['the natur languag toolkit , or more commonli nltk , is a suit of librari and program for symbol and statist natur languag process ( nlp ) for english written in the python program languag']"
      ]
     },
     "execution_count": 25,
     "metadata": {},
     "output_type": "execute_result"
    }
   ],
   "source": [
    "corpus"
   ]
  },
  {
   "cell_type": "code",
   "execution_count": 26,
   "metadata": {},
   "outputs": [
    {
     "name": "stdout",
     "output_type": "stream",
     "text": [
      "['The', 'Natural', 'Language', 'Toolkit', ',', 'or', 'more', 'commonly', 'NLTK', ',', 'is', 'a', 'suite', 'of', 'library', 'and', 'program', 'for', 'symbolic', 'and', 'statistical', 'natural', 'language', 'processing', '(', 'NLP', ')', 'for', 'English', 'written', 'in', 'the', 'Python', 'programming', 'language']\n"
     ]
    }
   ],
   "source": [
    "#USING LEMMATIZTION\n",
    "corpus=[]\n",
    "for i in range(len(sentences)):\n",
    "    words=nltk.word_tokenize(sentences[i])\n",
    "    words=[lemmatizer.lemmatize(word) for word in words]\n",
    "    print(words)\n",
    "    corpus.append(' '.join(words))"
   ]
  },
  {
   "cell_type": "code",
   "execution_count": 27,
   "metadata": {},
   "outputs": [],
   "source": [
    "stanza=\"\"\"\n",
    "Ratan Naval Tata (Ratan Ṭāṭā, born 28 December 1937) is an Indian industrialist, philanthropist, and a former chairman of Tata Sons. He was the chairman of Tata Group, from 1990 to 2012, and again, as interim chairman, from October 2016 through February 2017, and continues to head its charitable trusts.[3][4] He is the recipient of two civilian awards of India, the Padma Vibhushan (2008), the second highest civilian honour, and the Padma Bhushan (2000), the third highest civilian honour.[5]\n",
    "\n",
    "Born in 1937, he is an heir of the Tata family, and son of Naval Tata who was later adopted by Ratanji Tata, son of Jamsetji Tata, the founder of Tata Group. He is an alumnus of the Cornell University College of Architecture and Harvard Business School through the Advanced Management Program that he completed in 1975.[6] He joined his company in 1961 when he used to work on the shop floor of Tata Steel, and was the apparent successor to J. R. D. Tata upon the latter's retirement in 1991. He got Tata Tea to acquire Tetley, Tata Motors to acquire Jaguar Land Rover, and Tata Steel to acquire Corus, in an attempt to turn Tata from a largely India-centrist group into a global business. Around 60-65% of his profits are donated to charity making him one of the most significant philanthropists in the world.\n",
    "\n",
    "\"\"\""
   ]
  },
  {
   "cell_type": "code",
   "execution_count": 28,
   "metadata": {},
   "outputs": [
    {
     "data": {
      "text/plain": [
       "\"\\nRatan Naval Tata (Ratan Ṭāṭā, born 28 December 1937) is an Indian industrialist, philanthropist, and a former chairman of Tata Sons. He was the chairman of Tata Group, from 1990 to 2012, and again, as interim chairman, from October 2016 through February 2017, and continues to head its charitable trusts.[3][4] He is the recipient of two civilian awards of India, the Padma Vibhushan (2008), the second highest civilian honour, and the Padma Bhushan (2000), the third highest civilian honour.[5]\\n\\nBorn in 1937, he is an heir of the Tata family, and son of Naval Tata who was later adopted by Ratanji Tata, son of Jamsetji Tata, the founder of Tata Group. He is an alumnus of the Cornell University College of Architecture and Harvard Business School through the Advanced Management Program that he completed in 1975.[6] He joined his company in 1961 when he used to work on the shop floor of Tata Steel, and was the apparent successor to J. R. D. Tata upon the latter's retirement in 1991. He got Tata Tea to acquire Tetley, Tata Motors to acquire Jaguar Land Rover, and Tata Steel to acquire Corus, in an attempt to turn Tata from a largely India-centrist group into a global business. Around 60-65% of his profits are donated to charity making him one of the most significant philanthropists in the world.\\n\\n\""
      ]
     },
     "execution_count": 28,
     "metadata": {},
     "output_type": "execute_result"
    }
   ],
   "source": [
    "stanza"
   ]
  },
  {
   "cell_type": "code",
   "execution_count": 29,
   "metadata": {},
   "outputs": [],
   "source": [
    "sentence=nltk.sent_tokenize(stanza)"
   ]
  },
  {
   "cell_type": "code",
   "execution_count": 30,
   "metadata": {},
   "outputs": [
    {
     "data": {
      "text/plain": [
       "['\\nRatan Naval Tata (Ratan Ṭāṭā, born 28 December 1937) is an Indian industrialist, philanthropist, and a former chairman of Tata Sons.',\n",
       " 'He was the chairman of Tata Group, from 1990 to 2012, and again, as interim chairman, from October 2016 through February 2017, and continues to head its charitable trusts.',\n",
       " '[3][4] He is the recipient of two civilian awards of India, the Padma Vibhushan (2008), the second highest civilian honour, and the Padma Bhushan (2000), the third highest civilian honour.',\n",
       " '[5]\\n\\nBorn in 1937, he is an heir of the Tata family, and son of Naval Tata who was later adopted by Ratanji Tata, son of Jamsetji Tata, the founder of Tata Group.',\n",
       " 'He is an alumnus of the Cornell University College of Architecture and Harvard Business School through the Advanced Management Program that he completed in 1975.',\n",
       " \"[6] He joined his company in 1961 when he used to work on the shop floor of Tata Steel, and was the apparent successor to J. R. D. Tata upon the latter's retirement in 1991.\",\n",
       " 'He got Tata Tea to acquire Tetley, Tata Motors to acquire Jaguar Land Rover, and Tata Steel to acquire Corus, in an attempt to turn Tata from a largely India-centrist group into a global business.',\n",
       " 'Around 60-65% of his profits are donated to charity making him one of the most significant philanthropists in the world.']"
      ]
     },
     "execution_count": 30,
     "metadata": {},
     "output_type": "execute_result"
    }
   ],
   "source": [
    "sentence"
   ]
  },
  {
   "cell_type": "code",
   "execution_count": 31,
   "metadata": {},
   "outputs": [
    {
     "name": "stdout",
     "output_type": "stream",
     "text": [
      "['Ratan', 'Naval', 'Tata', '(', 'Ratan', 'Ṭāṭā', ',', 'born', '28', 'December', '1937', ')', 'is', 'an', 'Indian', 'industrialist', ',', 'philanthropist', ',', 'and', 'a', 'former', 'chairman', 'of', 'Tata', 'Sons', '.']\n",
      "['He', 'wa', 'the', 'chairman', 'of', 'Tata', 'Group', ',', 'from', '1990', 'to', '2012', ',', 'and', 'again', ',', 'a', 'interim', 'chairman', ',', 'from', 'October', '2016', 'through', 'February', '2017', ',', 'and', 'continues', 'to', 'head', 'it', 'charitable', 'trust', '.']\n",
      "['[', '3', ']', '[', '4', ']', 'He', 'is', 'the', 'recipient', 'of', 'two', 'civilian', 'award', 'of', 'India', ',', 'the', 'Padma', 'Vibhushan', '(', '2008', ')', ',', 'the', 'second', 'highest', 'civilian', 'honour', ',', 'and', 'the', 'Padma', 'Bhushan', '(', '2000', ')', ',', 'the', 'third', 'highest', 'civilian', 'honour', '.']\n",
      "['[', '5', ']', 'Born', 'in', '1937', ',', 'he', 'is', 'an', 'heir', 'of', 'the', 'Tata', 'family', ',', 'and', 'son', 'of', 'Naval', 'Tata', 'who', 'wa', 'later', 'adopted', 'by', 'Ratanji', 'Tata', ',', 'son', 'of', 'Jamsetji', 'Tata', ',', 'the', 'founder', 'of', 'Tata', 'Group', '.']\n",
      "['He', 'is', 'an', 'alumnus', 'of', 'the', 'Cornell', 'University', 'College', 'of', 'Architecture', 'and', 'Harvard', 'Business', 'School', 'through', 'the', 'Advanced', 'Management', 'Program', 'that', 'he', 'completed', 'in', '1975', '.']\n",
      "['[', '6', ']', 'He', 'joined', 'his', 'company', 'in', '1961', 'when', 'he', 'used', 'to', 'work', 'on', 'the', 'shop', 'floor', 'of', 'Tata', 'Steel', ',', 'and', 'wa', 'the', 'apparent', 'successor', 'to', 'J.', 'R.', 'D.', 'Tata', 'upon', 'the', 'latter', \"'s\", 'retirement', 'in', '1991', '.']\n",
      "['He', 'got', 'Tata', 'Tea', 'to', 'acquire', 'Tetley', ',', 'Tata', 'Motors', 'to', 'acquire', 'Jaguar', 'Land', 'Rover', ',', 'and', 'Tata', 'Steel', 'to', 'acquire', 'Corus', ',', 'in', 'an', 'attempt', 'to', 'turn', 'Tata', 'from', 'a', 'largely', 'India-centrist', 'group', 'into', 'a', 'global', 'business', '.']\n",
      "['Around', '60-65', '%', 'of', 'his', 'profit', 'are', 'donated', 'to', 'charity', 'making', 'him', 'one', 'of', 'the', 'most', 'significant', 'philanthropist', 'in', 'the', 'world', '.']\n"
     ]
    }
   ],
   "source": [
    "#LEMATIZED\n",
    "corpus=[]\n",
    "for i in range(len(sentence)):\n",
    "    words=nltk.word_tokenize(sentence[i])\n",
    "    words=[lemmatizer.lemmatize(word) for word in words]\n",
    "    print(words)\n",
    "    corpus.append(' '.join(words))"
   ]
  },
  {
   "cell_type": "code",
   "execution_count": 32,
   "metadata": {},
   "outputs": [
    {
     "name": "stdout",
     "output_type": "stream",
     "text": [
      "['ratan', 'naval', 'tata', '(', 'ratan', 'ṭāṭā', ',', 'born', '28', 'decemb', '1937', ')', 'is', 'an', 'indian', 'industrialist', ',', 'philanthropist', ',', 'and', 'a', 'former', 'chairman', 'of', 'tata', 'son', '.']\n",
      "['He', 'wa', 'the', 'chairman', 'of', 'tata', 'group', ',', 'from', '1990', 'to', '2012', ',', 'and', 'again', ',', 'as', 'interim', 'chairman', ',', 'from', 'octob', '2016', 'through', 'februari', '2017', ',', 'and', 'continu', 'to', 'head', 'it', 'charit', 'trust', '.']\n",
      "['[', '3', ']', '[', '4', ']', 'He', 'is', 'the', 'recipi', 'of', 'two', 'civilian', 'award', 'of', 'india', ',', 'the', 'padma', 'vibhushan', '(', '2008', ')', ',', 'the', 'second', 'highest', 'civilian', 'honour', ',', 'and', 'the', 'padma', 'bhushan', '(', '2000', ')', ',', 'the', 'third', 'highest', 'civilian', 'honour', '.']\n",
      "['[', '5', ']', 'born', 'in', '1937', ',', 'he', 'is', 'an', 'heir', 'of', 'the', 'tata', 'famili', ',', 'and', 'son', 'of', 'naval', 'tata', 'who', 'wa', 'later', 'adopt', 'by', 'ratanji', 'tata', ',', 'son', 'of', 'jamsetji', 'tata', ',', 'the', 'founder', 'of', 'tata', 'group', '.']\n",
      "['He', 'is', 'an', 'alumnu', 'of', 'the', 'cornel', 'univers', 'colleg', 'of', 'architectur', 'and', 'harvard', 'busi', 'school', 'through', 'the', 'advanc', 'manag', 'program', 'that', 'he', 'complet', 'in', '1975', '.']\n",
      "['[', '6', ']', 'He', 'join', 'hi', 'compani', 'in', '1961', 'when', 'he', 'use', 'to', 'work', 'on', 'the', 'shop', 'floor', 'of', 'tata', 'steel', ',', 'and', 'wa', 'the', 'appar', 'successor', 'to', 'J.', 'R.', 'D.', 'tata', 'upon', 'the', 'latter', \"'s\", 'retir', 'in', '1991', '.']\n",
      "['He', 'got', 'tata', 'tea', 'to', 'acquir', 'tetley', ',', 'tata', 'motor', 'to', 'acquir', 'jaguar', 'land', 'rover', ',', 'and', 'tata', 'steel', 'to', 'acquir', 'coru', ',', 'in', 'an', 'attempt', 'to', 'turn', 'tata', 'from', 'a', 'larg', 'india-centrist', 'group', 'into', 'a', 'global', 'busi', '.']\n",
      "['around', '60-65', '%', 'of', 'hi', 'profit', 'are', 'donat', 'to', 'chariti', 'make', 'him', 'one', 'of', 'the', 'most', 'signific', 'philanthropist', 'in', 'the', 'world', '.']\n"
     ]
    }
   ],
   "source": [
    "#STEMMED\n",
    "corpus=[]\n",
    "for i in range(len(sentence)):\n",
    "    words=nltk.word_tokenize(sentence[i])\n",
    "    words=[stemmer.stem(word) for word in words]\n",
    "    print(words)\n",
    "    corpus.append(' '.join(words))\n"
   ]
  },
  {
   "cell_type": "code",
   "execution_count": 33,
   "metadata": {},
   "outputs": [
    {
     "name": "stderr",
     "output_type": "stream",
     "text": [
      "[nltk_data] Downloading package stopwords to\n",
      "[nltk_data]     C:\\Users\\pruth\\AppData\\Roaming\\nltk_data...\n",
      "[nltk_data]   Unzipping corpora\\stopwords.zip.\n"
     ]
    },
    {
     "data": {
      "text/plain": [
       "True"
      ]
     },
     "execution_count": 33,
     "metadata": {},
     "output_type": "execute_result"
    }
   ],
   "source": [
    "nltk.download('stopwords')"
   ]
  },
  {
   "cell_type": "code",
   "execution_count": 34,
   "metadata": {},
   "outputs": [
    {
     "data": {
      "text/plain": [
       "['i',\n",
       " 'me',\n",
       " 'my',\n",
       " 'myself',\n",
       " 'we',\n",
       " 'our',\n",
       " 'ours',\n",
       " 'ourselves',\n",
       " 'you',\n",
       " \"you're\",\n",
       " \"you've\",\n",
       " \"you'll\",\n",
       " \"you'd\",\n",
       " 'your',\n",
       " 'yours',\n",
       " 'yourself',\n",
       " 'yourselves',\n",
       " 'he',\n",
       " 'him',\n",
       " 'his',\n",
       " 'himself',\n",
       " 'she',\n",
       " \"she's\",\n",
       " 'her',\n",
       " 'hers',\n",
       " 'herself',\n",
       " 'it',\n",
       " \"it's\",\n",
       " 'its',\n",
       " 'itself',\n",
       " 'they',\n",
       " 'them',\n",
       " 'their',\n",
       " 'theirs',\n",
       " 'themselves',\n",
       " 'what',\n",
       " 'which',\n",
       " 'who',\n",
       " 'whom',\n",
       " 'this',\n",
       " 'that',\n",
       " \"that'll\",\n",
       " 'these',\n",
       " 'those',\n",
       " 'am',\n",
       " 'is',\n",
       " 'are',\n",
       " 'was',\n",
       " 'were',\n",
       " 'be',\n",
       " 'been',\n",
       " 'being',\n",
       " 'have',\n",
       " 'has',\n",
       " 'had',\n",
       " 'having',\n",
       " 'do',\n",
       " 'does',\n",
       " 'did',\n",
       " 'doing',\n",
       " 'a',\n",
       " 'an',\n",
       " 'the',\n",
       " 'and',\n",
       " 'but',\n",
       " 'if',\n",
       " 'or',\n",
       " 'because',\n",
       " 'as',\n",
       " 'until',\n",
       " 'while',\n",
       " 'of',\n",
       " 'at',\n",
       " 'by',\n",
       " 'for',\n",
       " 'with',\n",
       " 'about',\n",
       " 'against',\n",
       " 'between',\n",
       " 'into',\n",
       " 'through',\n",
       " 'during',\n",
       " 'before',\n",
       " 'after',\n",
       " 'above',\n",
       " 'below',\n",
       " 'to',\n",
       " 'from',\n",
       " 'up',\n",
       " 'down',\n",
       " 'in',\n",
       " 'out',\n",
       " 'on',\n",
       " 'off',\n",
       " 'over',\n",
       " 'under',\n",
       " 'again',\n",
       " 'further',\n",
       " 'then',\n",
       " 'once',\n",
       " 'here',\n",
       " 'there',\n",
       " 'when',\n",
       " 'where',\n",
       " 'why',\n",
       " 'how',\n",
       " 'all',\n",
       " 'any',\n",
       " 'both',\n",
       " 'each',\n",
       " 'few',\n",
       " 'more',\n",
       " 'most',\n",
       " 'other',\n",
       " 'some',\n",
       " 'such',\n",
       " 'no',\n",
       " 'nor',\n",
       " 'not',\n",
       " 'only',\n",
       " 'own',\n",
       " 'same',\n",
       " 'so',\n",
       " 'than',\n",
       " 'too',\n",
       " 'very',\n",
       " 's',\n",
       " 't',\n",
       " 'can',\n",
       " 'will',\n",
       " 'just',\n",
       " 'don',\n",
       " \"don't\",\n",
       " 'should',\n",
       " \"should've\",\n",
       " 'now',\n",
       " 'd',\n",
       " 'll',\n",
       " 'm',\n",
       " 'o',\n",
       " 're',\n",
       " 've',\n",
       " 'y',\n",
       " 'ain',\n",
       " 'aren',\n",
       " \"aren't\",\n",
       " 'couldn',\n",
       " \"couldn't\",\n",
       " 'didn',\n",
       " \"didn't\",\n",
       " 'doesn',\n",
       " \"doesn't\",\n",
       " 'hadn',\n",
       " \"hadn't\",\n",
       " 'hasn',\n",
       " \"hasn't\",\n",
       " 'haven',\n",
       " \"haven't\",\n",
       " 'isn',\n",
       " \"isn't\",\n",
       " 'ma',\n",
       " 'mightn',\n",
       " \"mightn't\",\n",
       " 'mustn',\n",
       " \"mustn't\",\n",
       " 'needn',\n",
       " \"needn't\",\n",
       " 'shan',\n",
       " \"shan't\",\n",
       " 'shouldn',\n",
       " \"shouldn't\",\n",
       " 'wasn',\n",
       " \"wasn't\",\n",
       " 'weren',\n",
       " \"weren't\",\n",
       " 'won',\n",
       " \"won't\",\n",
       " 'wouldn',\n",
       " \"wouldn't\"]"
      ]
     },
     "execution_count": 34,
     "metadata": {},
     "output_type": "execute_result"
    }
   ],
   "source": [
    "from nltk.corpus import stopwords\n",
    "stopwords.words('english')"
   ]
  },
  {
   "cell_type": "code",
   "execution_count": 35,
   "metadata": {},
   "outputs": [],
   "source": [
    "stop_words=stopwords.words('english')"
   ]
  },
  {
   "cell_type": "code",
   "execution_count": 36,
   "metadata": {},
   "outputs": [
    {
     "data": {
      "text/plain": [
       "['i',\n",
       " 'me',\n",
       " 'my',\n",
       " 'myself',\n",
       " 'we',\n",
       " 'our',\n",
       " 'ours',\n",
       " 'ourselves',\n",
       " 'you',\n",
       " \"you're\",\n",
       " \"you've\",\n",
       " \"you'll\",\n",
       " \"you'd\",\n",
       " 'your',\n",
       " 'yours',\n",
       " 'yourself',\n",
       " 'yourselves',\n",
       " 'he',\n",
       " 'him',\n",
       " 'his',\n",
       " 'himself',\n",
       " 'she',\n",
       " \"she's\",\n",
       " 'her',\n",
       " 'hers',\n",
       " 'herself',\n",
       " 'it',\n",
       " \"it's\",\n",
       " 'its',\n",
       " 'itself',\n",
       " 'they',\n",
       " 'them',\n",
       " 'their',\n",
       " 'theirs',\n",
       " 'themselves',\n",
       " 'what',\n",
       " 'which',\n",
       " 'who',\n",
       " 'whom',\n",
       " 'this',\n",
       " 'that',\n",
       " \"that'll\",\n",
       " 'these',\n",
       " 'those',\n",
       " 'am',\n",
       " 'is',\n",
       " 'are',\n",
       " 'was',\n",
       " 'were',\n",
       " 'be',\n",
       " 'been',\n",
       " 'being',\n",
       " 'have',\n",
       " 'has',\n",
       " 'had',\n",
       " 'having',\n",
       " 'do',\n",
       " 'does',\n",
       " 'did',\n",
       " 'doing',\n",
       " 'a',\n",
       " 'an',\n",
       " 'the',\n",
       " 'and',\n",
       " 'but',\n",
       " 'if',\n",
       " 'or',\n",
       " 'because',\n",
       " 'as',\n",
       " 'until',\n",
       " 'while',\n",
       " 'of',\n",
       " 'at',\n",
       " 'by',\n",
       " 'for',\n",
       " 'with',\n",
       " 'about',\n",
       " 'against',\n",
       " 'between',\n",
       " 'into',\n",
       " 'through',\n",
       " 'during',\n",
       " 'before',\n",
       " 'after',\n",
       " 'above',\n",
       " 'below',\n",
       " 'to',\n",
       " 'from',\n",
       " 'up',\n",
       " 'down',\n",
       " 'in',\n",
       " 'out',\n",
       " 'on',\n",
       " 'off',\n",
       " 'over',\n",
       " 'under',\n",
       " 'again',\n",
       " 'further',\n",
       " 'then',\n",
       " 'once',\n",
       " 'here',\n",
       " 'there',\n",
       " 'when',\n",
       " 'where',\n",
       " 'why',\n",
       " 'how',\n",
       " 'all',\n",
       " 'any',\n",
       " 'both',\n",
       " 'each',\n",
       " 'few',\n",
       " 'more',\n",
       " 'most',\n",
       " 'other',\n",
       " 'some',\n",
       " 'such',\n",
       " 'no',\n",
       " 'nor',\n",
       " 'not',\n",
       " 'only',\n",
       " 'own',\n",
       " 'same',\n",
       " 'so',\n",
       " 'than',\n",
       " 'too',\n",
       " 'very',\n",
       " 's',\n",
       " 't',\n",
       " 'can',\n",
       " 'will',\n",
       " 'just',\n",
       " 'don',\n",
       " \"don't\",\n",
       " 'should',\n",
       " \"should've\",\n",
       " 'now',\n",
       " 'd',\n",
       " 'll',\n",
       " 'm',\n",
       " 'o',\n",
       " 're',\n",
       " 've',\n",
       " 'y',\n",
       " 'ain',\n",
       " 'aren',\n",
       " \"aren't\",\n",
       " 'couldn',\n",
       " \"couldn't\",\n",
       " 'didn',\n",
       " \"didn't\",\n",
       " 'doesn',\n",
       " \"doesn't\",\n",
       " 'hadn',\n",
       " \"hadn't\",\n",
       " 'hasn',\n",
       " \"hasn't\",\n",
       " 'haven',\n",
       " \"haven't\",\n",
       " 'isn',\n",
       " \"isn't\",\n",
       " 'ma',\n",
       " 'mightn',\n",
       " \"mightn't\",\n",
       " 'mustn',\n",
       " \"mustn't\",\n",
       " 'needn',\n",
       " \"needn't\",\n",
       " 'shan',\n",
       " \"shan't\",\n",
       " 'shouldn',\n",
       " \"shouldn't\",\n",
       " 'wasn',\n",
       " \"wasn't\",\n",
       " 'weren',\n",
       " \"weren't\",\n",
       " 'won',\n",
       " \"won't\",\n",
       " 'wouldn',\n",
       " \"wouldn't\"]"
      ]
     },
     "execution_count": 36,
     "metadata": {},
     "output_type": "execute_result"
    }
   ],
   "source": [
    "stop_words"
   ]
  },
  {
   "cell_type": "code",
   "execution_count": 37,
   "metadata": {},
   "outputs": [
    {
     "name": "stdout",
     "output_type": "stream",
     "text": [
      "change\n",
      "change\n",
      "changing\n",
      "changer\n",
      "changeable\n"
     ]
    }
   ],
   "source": [
    "for i in [\"changes\",\"change\",\"changing\",\"changer\",\"changeable\"]:\n",
    "    print(lemmatizer.lemmatize(i))"
   ]
  },
  {
   "cell_type": "code",
   "execution_count": 38,
   "metadata": {},
   "outputs": [
    {
     "name": "stdout",
     "output_type": "stream",
     "text": [
      "better : good\n"
     ]
    }
   ],
   "source": [
    "print(\"better :\", lemmatizer.lemmatize(\"better\", pos =\"a\"))"
   ]
  },
  {
   "cell_type": "code",
   "execution_count": 39,
   "metadata": {},
   "outputs": [
    {
     "data": {
      "text/plain": [
       "['ratan naval tata ( ratan ṭāṭā , born 28 decemb 1937 ) is an indian industrialist , philanthropist , and a former chairman of tata son .',\n",
       " 'He wa the chairman of tata group , from 1990 to 2012 , and again , as interim chairman , from octob 2016 through februari 2017 , and continu to head it charit trust .',\n",
       " '[ 3 ] [ 4 ] He is the recipi of two civilian award of india , the padma vibhushan ( 2008 ) , the second highest civilian honour , and the padma bhushan ( 2000 ) , the third highest civilian honour .',\n",
       " '[ 5 ] born in 1937 , he is an heir of the tata famili , and son of naval tata who wa later adopt by ratanji tata , son of jamsetji tata , the founder of tata group .',\n",
       " 'He is an alumnu of the cornel univers colleg of architectur and harvard busi school through the advanc manag program that he complet in 1975 .',\n",
       " \"[ 6 ] He join hi compani in 1961 when he use to work on the shop floor of tata steel , and wa the appar successor to J. R. D. tata upon the latter 's retir in 1991 .\",\n",
       " 'He got tata tea to acquir tetley , tata motor to acquir jaguar land rover , and tata steel to acquir coru , in an attempt to turn tata from a larg india-centrist group into a global busi .',\n",
       " 'around 60-65 % of hi profit are donat to chariti make him one of the most signific philanthropist in the world .']"
      ]
     },
     "execution_count": 39,
     "metadata": {},
     "output_type": "execute_result"
    }
   ],
   "source": [
    "corpus"
   ]
  },
  {
   "cell_type": "code",
   "execution_count": 53,
   "metadata": {},
   "outputs": [
    {
     "name": "stdout",
     "output_type": "stream",
     "text": [
      "['ratan', 'naval', 'tata', '(', 'ratan', 'ṭāṭā', ',', 'born', '28', 'decemb', '1937', ')', 'indian', 'industrialist', ',', 'philanthropist', ',', 'former', 'chairman', 'tata', 'son', '.']\n",
      "['chairman', 'tata', 'group', ',', '1990', '2012', ',', ',', 'interim', 'chairman', ',', 'octob', '2016', 'februari', '2017', ',', 'continu', 'head', 'charit', 'trust', '.']\n",
      "['[', '3', ']', '[', '4', ']', 'recipi', 'two', 'civilian', 'award', 'india', ',', 'padma', 'vibhushan', '(', '2008', ')', ',', 'second', 'highest', 'civilian', 'honour', ',', 'padma', 'bhushan', '(', '2000', ')', ',', 'third', 'highest', 'civilian', 'honour', '.']\n",
      "['[', '5', ']', 'born', '1937', ',', 'heir', 'tata', 'famili', ',', 'son', 'naval', 'tata', 'later', 'adopt', 'ratanji', 'tata', ',', 'son', 'jamsetji', 'tata', ',', 'founder', 'tata', 'group', '.']\n",
      "['alumnu', 'cornel', 'univers', 'colleg', 'architectur', 'harvard', 'busi', 'school', 'advanc', 'manag', 'program', 'complet', '1975', '.']\n",
      "['[', '6', ']', 'join', 'compani', '1961', 'use', 'work', 'shop', 'floor', 'tata', 'steel', ',', 'appar', 'successor', 'j.', 'r.', 'd.', 'tata', 'upon', 'latter', \"'s\", 'retir', '1991', '.']\n",
      "['got', 'tata', 'tea', 'acquir', 'tetley', ',', 'tata', 'motor', 'acquir', 'jaguar', 'land', 'rover', ',', 'tata', 'steel', 'acquir', 'coru', ',', 'attempt', 'turn', 'tata', 'larg', 'india-centrist', 'group', 'global', 'busi', '.']\n",
      "['around', '60-65', '%', 'profit', 'donat', 'chariti', 'make', 'one', 'signific', 'philanthropist', 'world', '.']\n"
     ]
    }
   ],
   "source": [
    "corpus=[]\n",
    "for i in range(len(sent)):\n",
    "    words=nltk.word_tokenize(sent[i].lower())\n",
    "    words=[stemmer.stem(word) for word in words if not word in stop_words]\n",
    "    print(words)\n",
    "    corpus.append(' '.join(words))"
   ]
  },
  {
   "cell_type": "code",
   "execution_count": 54,
   "metadata": {},
   "outputs": [
    {
     "data": {
      "text/plain": [
       "['ratan naval tata ( ratan ṭāṭā , born 28 decemb 1937 ) indian industrialist , philanthropist , former chairman tata son .',\n",
       " 'chairman tata group , 1990 2012 , , interim chairman , octob 2016 februari 2017 , continu head charit trust .',\n",
       " '[ 3 ] [ 4 ] recipi two civilian award india , padma vibhushan ( 2008 ) , second highest civilian honour , padma bhushan ( 2000 ) , third highest civilian honour .',\n",
       " '[ 5 ] born 1937 , heir tata famili , son naval tata later adopt ratanji tata , son jamsetji tata , founder tata group .',\n",
       " 'alumnu cornel univers colleg architectur harvard busi school advanc manag program complet 1975 .',\n",
       " \"[ 6 ] join compani 1961 use work shop floor tata steel , appar successor j. r. d. tata upon latter 's retir 1991 .\",\n",
       " 'got tata tea acquir tetley , tata motor acquir jaguar land rover , tata steel acquir coru , attempt turn tata larg india-centrist group global busi .',\n",
       " 'around 60-65 % profit donat chariti make one signific philanthropist world .']"
      ]
     },
     "execution_count": 54,
     "metadata": {},
     "output_type": "execute_result"
    }
   ],
   "source": [
    "corpus"
   ]
  },
  {
   "cell_type": "code",
   "execution_count": 48,
   "metadata": {},
   "outputs": [],
   "source": [
    "from sklearn.feature_extraction.text import CountVectorizer"
   ]
  },
  {
   "cell_type": "code",
   "execution_count": 50,
   "metadata": {},
   "outputs": [],
   "source": [
    "sent=nltk.sent_tokenize(stanza)"
   ]
  },
  {
   "cell_type": "code",
   "execution_count": 51,
   "metadata": {},
   "outputs": [
    {
     "data": {
      "text/plain": [
       "['\\nRatan Naval Tata (Ratan Ṭāṭā, born 28 December 1937) is an Indian industrialist, philanthropist, and a former chairman of Tata Sons.',\n",
       " 'He was the chairman of Tata Group, from 1990 to 2012, and again, as interim chairman, from October 2016 through February 2017, and continues to head its charitable trusts.',\n",
       " '[3][4] He is the recipient of two civilian awards of India, the Padma Vibhushan (2008), the second highest civilian honour, and the Padma Bhushan (2000), the third highest civilian honour.',\n",
       " '[5]\\n\\nBorn in 1937, he is an heir of the Tata family, and son of Naval Tata who was later adopted by Ratanji Tata, son of Jamsetji Tata, the founder of Tata Group.',\n",
       " 'He is an alumnus of the Cornell University College of Architecture and Harvard Business School through the Advanced Management Program that he completed in 1975.',\n",
       " \"[6] He joined his company in 1961 when he used to work on the shop floor of Tata Steel, and was the apparent successor to J. R. D. Tata upon the latter's retirement in 1991.\",\n",
       " 'He got Tata Tea to acquire Tetley, Tata Motors to acquire Jaguar Land Rover, and Tata Steel to acquire Corus, in an attempt to turn Tata from a largely India-centrist group into a global business.',\n",
       " 'Around 60-65% of his profits are donated to charity making him one of the most significant philanthropists in the world.']"
      ]
     },
     "execution_count": 51,
     "metadata": {},
     "output_type": "execute_result"
    }
   ],
   "source": [
    "sent"
   ]
  },
  {
   "cell_type": "code",
   "execution_count": 55,
   "metadata": {},
   "outputs": [
    {
     "name": "stdout",
     "output_type": "stream",
     "text": [
      "['ratan', 'naval', 'tata', 'ratan', 'born', '28', 'decemb', '1937', 'indian', 'industrialist', 'philanthropist', 'former', 'chairman', 'tata', 'son']\n",
      "['chairman', 'tata', 'group', '1990', '2012', 'interim', 'chairman', 'octob', '2016', 'februari', '2017', 'continu', 'head', 'charit', 'trust']\n",
      "['3', '4', 'recipi', 'two', 'civilian', 'award', 'india', 'padma', 'vibhushan', '2008', 'second', 'highest', 'civilian', 'honour', 'padma', 'bhushan', '2000', 'third', 'highest', 'civilian', 'honour']\n",
      "['5', 'born', '1937', 'heir', 'tata', 'famili', 'son', 'naval', 'tata', 'later', 'adopt', 'ratanji', 'tata', 'son', 'jamsetji', 'tata', 'founder', 'tata', 'group']\n",
      "['alumnu', 'cornel', 'univers', 'colleg', 'architectur', 'harvard', 'busi', 'school', 'advanc', 'manag', 'program', 'complet', '1975']\n",
      "['6', 'join', 'compani', '1961', 'use', 'work', 'shop', 'floor', 'tata', 'steel', 'appar', 'successor', 'j', 'r', 'tata', 'upon', 'latter', 'retir', '1991']\n",
      "['got', 'tata', 'tea', 'acquir', 'tetley', 'tata', 'motor', 'acquir', 'jaguar', 'land', 'rover', 'tata', 'steel', 'acquir', 'coru', 'attempt', 'turn', 'tata', 'larg', 'india', 'centrist', 'group', 'global', 'busi']\n",
      "['around', '60', '65', 'profit', 'donat', 'chariti', 'make', 'one', 'signific', 'philanthropist', 'world']\n"
     ]
    }
   ],
   "source": [
    "import re\n",
    "for i in range(len(sent)):\n",
    "    text=re.sub('[^a-zA-Z0-9]',' ',sent[i])\n",
    "    text=text.lower()\n",
    "    words=text.split()\n",
    "    words=[stemmer.stem(word) for word in words if not word in stop_words]\n",
    "    print(words)\n",
    "    corpus.append(' '.join(words))"
   ]
  },
  {
   "cell_type": "code",
   "execution_count": 56,
   "metadata": {},
   "outputs": [
    {
     "data": {
      "text/plain": [
       "['ratan naval tata ( ratan ṭāṭā , born 28 decemb 1937 ) indian industrialist , philanthropist , former chairman tata son .',\n",
       " 'chairman tata group , 1990 2012 , , interim chairman , octob 2016 februari 2017 , continu head charit trust .',\n",
       " '[ 3 ] [ 4 ] recipi two civilian award india , padma vibhushan ( 2008 ) , second highest civilian honour , padma bhushan ( 2000 ) , third highest civilian honour .',\n",
       " '[ 5 ] born 1937 , heir tata famili , son naval tata later adopt ratanji tata , son jamsetji tata , founder tata group .',\n",
       " 'alumnu cornel univers colleg architectur harvard busi school advanc manag program complet 1975 .',\n",
       " \"[ 6 ] join compani 1961 use work shop floor tata steel , appar successor j. r. d. tata upon latter 's retir 1991 .\",\n",
       " 'got tata tea acquir tetley , tata motor acquir jaguar land rover , tata steel acquir coru , attempt turn tata larg india-centrist group global busi .',\n",
       " 'around 60-65 % profit donat chariti make one signific philanthropist world .',\n",
       " 'ratan naval tata ratan born 28 decemb 1937 indian industrialist philanthropist former chairman tata son',\n",
       " 'chairman tata group 1990 2012 interim chairman octob 2016 februari 2017 continu head charit trust',\n",
       " '3 4 recipi two civilian award india padma vibhushan 2008 second highest civilian honour padma bhushan 2000 third highest civilian honour',\n",
       " '5 born 1937 heir tata famili son naval tata later adopt ratanji tata son jamsetji tata founder tata group',\n",
       " 'alumnu cornel univers colleg architectur harvard busi school advanc manag program complet 1975',\n",
       " '6 join compani 1961 use work shop floor tata steel appar successor j r tata upon latter retir 1991',\n",
       " 'got tata tea acquir tetley tata motor acquir jaguar land rover tata steel acquir coru attempt turn tata larg india centrist group global busi',\n",
       " 'around 60 65 profit donat chariti make one signific philanthropist world']"
      ]
     },
     "execution_count": 56,
     "metadata": {},
     "output_type": "execute_result"
    }
   ],
   "source": [
    "corpus"
   ]
  },
  {
   "cell_type": "code",
   "execution_count": 57,
   "metadata": {},
   "outputs": [],
   "source": [
    "cv=CountVectorizer(binary=True,ngram_range=(1,2))"
   ]
  },
  {
   "cell_type": "code",
   "execution_count": 58,
   "metadata": {},
   "outputs": [
    {
     "data": {
      "text/plain": [
       "array([[1, 0, 1, ..., 0, 1, 1],\n",
       "       [0, 0, 0, ..., 0, 0, 0],\n",
       "       [0, 0, 0, ..., 0, 0, 0],\n",
       "       ...,\n",
       "       [0, 0, 0, ..., 0, 0, 0],\n",
       "       [0, 0, 0, ..., 0, 0, 0],\n",
       "       [0, 0, 0, ..., 1, 0, 0]], dtype=int64)"
      ]
     },
     "execution_count": 58,
     "metadata": {},
     "output_type": "execute_result"
    }
   ],
   "source": [
    "##applied BOW\n",
    "cv.fit_transform(corpus).toarray()"
   ]
  },
  {
   "cell_type": "code",
   "execution_count": 59,
   "metadata": {},
   "outputs": [
    {
     "data": {
      "text/plain": [
       "array([[0, 0, 0, 0, 0, 0, 0, 0, 0, 0, 0, 0, 0, 0, 0, 0, 0, 0, 0, 0, 0, 0,\n",
       "        0, 0, 0, 0, 0, 0, 0, 0, 0, 0, 0, 0, 0, 0, 0, 0, 0, 0, 0, 0, 0, 0,\n",
       "        0, 0, 0, 0, 0, 0, 0, 0, 0, 0, 0, 0, 0, 0, 0, 0, 0, 0, 0, 0, 0, 0,\n",
       "        0, 0, 0, 0, 0, 0, 0, 0, 0, 0, 0, 0, 0, 0, 0, 0, 0, 0, 0, 0, 0, 0,\n",
       "        0, 0, 0, 0, 0, 0, 0, 0, 0, 0, 0, 0, 0, 0, 0, 0, 0, 0, 0, 0, 0, 0,\n",
       "        0, 0, 0, 0, 0, 0, 0, 0, 0, 0, 0, 0, 0, 0, 0, 0, 0, 0, 0, 0, 0, 0,\n",
       "        0, 0, 0, 0, 0, 0, 0, 0, 0, 0, 0, 0, 0, 0, 0, 0, 0, 0, 0, 0, 1, 0,\n",
       "        0, 0, 0, 0, 0, 0, 0, 0, 0, 0, 0, 0, 0, 0, 0, 0, 0, 0, 0, 0, 0, 0,\n",
       "        0, 0, 0, 0, 1, 0, 0, 0, 0, 0, 0, 0, 0, 0, 0, 0, 0, 0, 0, 0, 0, 0,\n",
       "        0, 0, 0, 0, 0, 0, 0, 0, 0, 0, 0, 0, 0, 0, 0, 0, 0, 0]],\n",
       "      dtype=int64)"
      ]
     },
     "execution_count": 59,
     "metadata": {},
     "output_type": "execute_result"
    }
   ],
   "source": [
    "## new test data\n",
    "data=[\"I want to visit ratan tata\"]\n",
    "\n",
    "cv.transform(data).toarray()"
   ]
  },
  {
   "cell_type": "code",
   "execution_count": 60,
   "metadata": {},
   "outputs": [
    {
     "data": {
      "text/plain": [
       "{'ratan': 152,\n",
       " 'naval': 136,\n",
       " 'tata': 180,\n",
       " 'ṭāṭā': 214,\n",
       " 'born': 47,\n",
       " '28': 19,\n",
       " 'decemb': 76,\n",
       " '1937': 0,\n",
       " 'indian': 110,\n",
       " 'industrialist': 112,\n",
       " 'philanthropist': 145,\n",
       " 'former': 86,\n",
       " 'chairman': 54,\n",
       " 'son': 172,\n",
       " 'ratan naval': 154,\n",
       " 'naval tata': 137,\n",
       " 'tata ratan': 187,\n",
       " 'ratan ṭāṭā': 155,\n",
       " 'ṭāṭā born': 215,\n",
       " 'born 28': 49,\n",
       " '28 decemb': 20,\n",
       " 'decemb 1937': 77,\n",
       " '1937 indian': 2,\n",
       " 'indian industrialist': 111,\n",
       " 'industrialist philanthropist': 113,\n",
       " 'philanthropist former': 146,\n",
       " 'former chairman': 87,\n",
       " 'chairman tata': 56,\n",
       " 'tata son': 188,\n",
       " 'group': 94,\n",
       " '1990': 6,\n",
       " '2012': 13,\n",
       " 'interim': 114,\n",
       " 'octob': 138,\n",
       " '2016': 15,\n",
       " 'februari': 82,\n",
       " '2017': 17,\n",
       " 'continu': 70,\n",
       " 'head': 99,\n",
       " 'charit': 57,\n",
       " 'trust': 198,\n",
       " 'tata group': 183,\n",
       " 'group 1990': 95,\n",
       " '1990 2012': 7,\n",
       " '2012 interim': 14,\n",
       " 'interim chairman': 115,\n",
       " 'chairman octob': 55,\n",
       " 'octob 2016': 139,\n",
       " '2016 februari': 16,\n",
       " 'februari 2017': 83,\n",
       " '2017 continu': 18,\n",
       " 'continu head': 71,\n",
       " 'head charit': 100,\n",
       " 'charit trust': 58,\n",
       " 'recipi': 158,\n",
       " 'two': 201,\n",
       " 'civilian': 61,\n",
       " 'award': 43,\n",
       " 'india': 107,\n",
       " 'padma': 142,\n",
       " 'vibhushan': 209,\n",
       " '2008': 11,\n",
       " 'second': 166,\n",
       " 'highest': 103,\n",
       " 'honour': 105,\n",
       " 'bhushan': 45,\n",
       " '2000': 9,\n",
       " 'third': 196,\n",
       " 'recipi two': 159,\n",
       " 'two civilian': 202,\n",
       " 'civilian award': 62,\n",
       " 'award india': 44,\n",
       " 'india padma': 109,\n",
       " 'padma vibhushan': 144,\n",
       " 'vibhushan 2008': 210,\n",
       " '2008 second': 12,\n",
       " 'second highest': 167,\n",
       " 'highest civilian': 104,\n",
       " 'civilian honour': 63,\n",
       " 'honour padma': 106,\n",
       " 'padma bhushan': 143,\n",
       " 'bhushan 2000': 46,\n",
       " '2000 third': 10,\n",
       " 'third highest': 197,\n",
       " 'heir': 101,\n",
       " 'famili': 80,\n",
       " 'later': 126,\n",
       " 'adopt': 29,\n",
       " 'ratanji': 156,\n",
       " 'jamsetji': 118,\n",
       " 'founder': 88,\n",
       " 'born 1937': 48,\n",
       " '1937 heir': 1,\n",
       " 'heir tata': 102,\n",
       " 'tata famili': 181,\n",
       " 'famili son': 81,\n",
       " 'son naval': 174,\n",
       " 'tata later': 185,\n",
       " 'later adopt': 127,\n",
       " 'adopt ratanji': 30,\n",
       " 'ratanji tata': 157,\n",
       " 'son jamsetji': 173,\n",
       " 'jamsetji tata': 119,\n",
       " 'tata founder': 182,\n",
       " 'founder tata': 89,\n",
       " 'alumnu': 33,\n",
       " 'cornel': 72,\n",
       " 'univers': 203,\n",
       " 'colleg': 64,\n",
       " 'architectur': 37,\n",
       " 'harvard': 97,\n",
       " 'busi': 50,\n",
       " 'school': 164,\n",
       " 'advanc': 31,\n",
       " 'manag': 132,\n",
       " 'program': 150,\n",
       " 'complet': 68,\n",
       " '1975': 5,\n",
       " 'alumnu cornel': 34,\n",
       " 'cornel univers': 73,\n",
       " 'univers colleg': 204,\n",
       " 'colleg architectur': 65,\n",
       " 'architectur harvard': 38,\n",
       " 'harvard busi': 98,\n",
       " 'busi school': 51,\n",
       " 'school advanc': 165,\n",
       " 'advanc manag': 32,\n",
       " 'manag program': 133,\n",
       " 'program complet': 151,\n",
       " 'complet 1975': 69,\n",
       " 'join': 120,\n",
       " 'compani': 66,\n",
       " '1961': 3,\n",
       " 'use': 207,\n",
       " 'work': 211,\n",
       " 'shop': 168,\n",
       " 'floor': 84,\n",
       " 'steel': 175,\n",
       " 'appar': 35,\n",
       " 'successor': 178,\n",
       " 'upon': 205,\n",
       " 'latter': 128,\n",
       " 'retir': 160,\n",
       " '1991': 8,\n",
       " 'join compani': 121,\n",
       " 'compani 1961': 67,\n",
       " '1961 use': 4,\n",
       " 'use work': 208,\n",
       " 'work shop': 212,\n",
       " 'shop floor': 169,\n",
       " 'floor tata': 85,\n",
       " 'tata steel': 189,\n",
       " 'steel appar': 177,\n",
       " 'appar successor': 36,\n",
       " 'successor tata': 179,\n",
       " 'tata upon': 191,\n",
       " 'upon latter': 206,\n",
       " 'latter retir': 129,\n",
       " 'retir 1991': 161,\n",
       " 'got': 92,\n",
       " 'tea': 192,\n",
       " 'acquir': 25,\n",
       " 'tetley': 194,\n",
       " 'motor': 134,\n",
       " 'jaguar': 116,\n",
       " 'land': 122,\n",
       " 'rover': 162,\n",
       " 'coru': 74,\n",
       " 'attempt': 41,\n",
       " 'turn': 199,\n",
       " 'larg': 124,\n",
       " 'centrist': 52,\n",
       " 'global': 90,\n",
       " 'got tata': 93,\n",
       " 'tata tea': 190,\n",
       " 'tea acquir': 193,\n",
       " 'acquir tetley': 28,\n",
       " 'tetley tata': 195,\n",
       " 'tata motor': 186,\n",
       " 'motor acquir': 135,\n",
       " 'acquir jaguar': 27,\n",
       " 'jaguar land': 117,\n",
       " 'land rover': 123,\n",
       " 'rover tata': 163,\n",
       " 'steel acquir': 176,\n",
       " 'acquir coru': 26,\n",
       " 'coru attempt': 75,\n",
       " 'attempt turn': 42,\n",
       " 'turn tata': 200,\n",
       " 'tata larg': 184,\n",
       " 'larg india': 125,\n",
       " 'india centrist': 108,\n",
       " 'centrist group': 53,\n",
       " 'group global': 96,\n",
       " 'global busi': 91,\n",
       " 'around': 39,\n",
       " '60': 21,\n",
       " '65': 23,\n",
       " 'profit': 148,\n",
       " 'donat': 78,\n",
       " 'chariti': 59,\n",
       " 'make': 130,\n",
       " 'one': 140,\n",
       " 'signific': 170,\n",
       " 'world': 213,\n",
       " 'around 60': 40,\n",
       " '60 65': 22,\n",
       " '65 profit': 24,\n",
       " 'profit donat': 149,\n",
       " 'donat chariti': 79,\n",
       " 'chariti make': 60,\n",
       " 'make one': 131,\n",
       " 'one signific': 141,\n",
       " 'signific philanthropist': 171,\n",
       " 'philanthropist world': 147,\n",
       " 'ratan born': 153}"
      ]
     },
     "execution_count": 60,
     "metadata": {},
     "output_type": "execute_result"
    }
   ],
   "source": [
    "cv.vocabulary_"
   ]
  },
  {
   "cell_type": "code",
   "execution_count": 62,
   "metadata": {},
   "outputs": [
    {
     "data": {
      "text/plain": [
       "array([[0.20730143, 0.        , 0.        , ..., 0.        , 0.        ,\n",
       "        0.29271849],\n",
       "       [0.        , 0.        , 0.        , ..., 0.        , 0.        ,\n",
       "        0.        ],\n",
       "       [0.        , 0.        , 0.        , ..., 0.        , 0.        ,\n",
       "        0.        ],\n",
       "       ...,\n",
       "       [0.        , 0.26026087, 0.        , ..., 0.26026087, 0.        ,\n",
       "        0.        ],\n",
       "       [0.        , 0.        , 0.        , ..., 0.        , 0.        ,\n",
       "        0.        ],\n",
       "       [0.        , 0.        , 0.        , ..., 0.        , 0.30626337,\n",
       "        0.        ]])"
      ]
     },
     "execution_count": 62,
     "metadata": {},
     "output_type": "execute_result"
    }
   ],
   "source": [
    "from sklearn.feature_extraction.text import TfidfVectorizer\n",
    "tf_idf=TfidfVectorizer()\n",
    "tf_idf.fit_transform(corpus).toarray()"
   ]
  },
  {
   "cell_type": "code",
   "execution_count": 63,
   "metadata": {},
   "outputs": [
    {
     "data": {
      "text/plain": [
       "{'ratan': 72,\n",
       " 'naval': 65,\n",
       " 'tata': 84,\n",
       " 'ṭāṭā': 97,\n",
       " 'born': 23,\n",
       " '28': 10,\n",
       " 'decemb': 36,\n",
       " '1937': 0,\n",
       " 'indian': 52,\n",
       " 'industrialist': 53,\n",
       " 'philanthropist': 69,\n",
       " 'former': 41,\n",
       " 'chairman': 26,\n",
       " 'son': 81,\n",
       " 'group': 45,\n",
       " '1990': 3,\n",
       " '2012': 7,\n",
       " 'interim': 54,\n",
       " 'octob': 66,\n",
       " '2016': 8,\n",
       " 'februari': 39,\n",
       " '2017': 9,\n",
       " 'continu': 33,\n",
       " 'head': 47,\n",
       " 'charit': 27,\n",
       " 'trust': 88,\n",
       " 'recipi': 74,\n",
       " 'two': 90,\n",
       " 'civilian': 29,\n",
       " 'award': 21,\n",
       " 'india': 51,\n",
       " 'padma': 68,\n",
       " 'vibhushan': 94,\n",
       " '2008': 6,\n",
       " 'second': 78,\n",
       " 'highest': 49,\n",
       " 'honour': 50,\n",
       " 'bhushan': 22,\n",
       " '2000': 5,\n",
       " 'third': 87,\n",
       " 'heir': 48,\n",
       " 'famili': 38,\n",
       " 'later': 60,\n",
       " 'adopt': 14,\n",
       " 'ratanji': 73,\n",
       " 'jamsetji': 56,\n",
       " 'founder': 42,\n",
       " 'alumnu': 16,\n",
       " 'cornel': 34,\n",
       " 'univers': 91,\n",
       " 'colleg': 30,\n",
       " 'architectur': 18,\n",
       " 'harvard': 46,\n",
       " 'busi': 24,\n",
       " 'school': 77,\n",
       " 'advanc': 15,\n",
       " 'manag': 63,\n",
       " 'program': 71,\n",
       " 'complet': 32,\n",
       " '1975': 2,\n",
       " 'join': 57,\n",
       " 'compani': 31,\n",
       " '1961': 1,\n",
       " 'use': 93,\n",
       " 'work': 95,\n",
       " 'shop': 79,\n",
       " 'floor': 40,\n",
       " 'steel': 82,\n",
       " 'appar': 17,\n",
       " 'successor': 83,\n",
       " 'upon': 92,\n",
       " 'latter': 61,\n",
       " 'retir': 75,\n",
       " '1991': 4,\n",
       " 'got': 44,\n",
       " 'tea': 85,\n",
       " 'acquir': 13,\n",
       " 'tetley': 86,\n",
       " 'motor': 64,\n",
       " 'jaguar': 55,\n",
       " 'land': 58,\n",
       " 'rover': 76,\n",
       " 'coru': 35,\n",
       " 'attempt': 20,\n",
       " 'turn': 89,\n",
       " 'larg': 59,\n",
       " 'centrist': 25,\n",
       " 'global': 43,\n",
       " 'around': 19,\n",
       " '60': 11,\n",
       " '65': 12,\n",
       " 'profit': 70,\n",
       " 'donat': 37,\n",
       " 'chariti': 28,\n",
       " 'make': 62,\n",
       " 'one': 67,\n",
       " 'signific': 80,\n",
       " 'world': 96}"
      ]
     },
     "execution_count": 63,
     "metadata": {},
     "output_type": "execute_result"
    }
   ],
   "source": [
    "tf_idf.vocabulary_"
   ]
  },
  {
   "cell_type": "code",
   "execution_count": null,
   "metadata": {},
   "outputs": [],
   "source": []
  }
 ],
 "metadata": {
  "kernelspec": {
   "display_name": "Python 3",
   "language": "python",
   "name": "python3"
  },
  "language_info": {
   "codemirror_mode": {
    "name": "ipython",
    "version": 3
   },
   "file_extension": ".py",
   "mimetype": "text/x-python",
   "name": "python",
   "nbconvert_exporter": "python",
   "pygments_lexer": "ipython3",
   "version": "3.8.5"
  },
  "toc": {
   "base_numbering": 1,
   "nav_menu": {},
   "number_sections": true,
   "sideBar": true,
   "skip_h1_title": false,
   "title_cell": "Table of Contents",
   "title_sidebar": "Contents",
   "toc_cell": false,
   "toc_position": {},
   "toc_section_display": true,
   "toc_window_display": false
  },
  "varInspector": {
   "cols": {
    "lenName": 16,
    "lenType": 16,
    "lenVar": 40
   },
   "kernels_config": {
    "python": {
     "delete_cmd_postfix": "",
     "delete_cmd_prefix": "del ",
     "library": "var_list.py",
     "varRefreshCmd": "print(var_dic_list())"
    },
    "r": {
     "delete_cmd_postfix": ") ",
     "delete_cmd_prefix": "rm(",
     "library": "var_list.r",
     "varRefreshCmd": "cat(var_dic_list()) "
    }
   },
   "types_to_exclude": [
    "module",
    "function",
    "builtin_function_or_method",
    "instance",
    "_Feature"
   ],
   "window_display": false
  }
 },
 "nbformat": 4,
 "nbformat_minor": 4
}
